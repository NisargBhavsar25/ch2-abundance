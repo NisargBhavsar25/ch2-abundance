{
 "cells": [
  {
   "cell_type": "code",
   "execution_count": 2,
   "metadata": {},
   "outputs": [],
   "source": [
    "import pandas as pd\n",
    "import os"
   ]
  },
  {
   "cell_type": "code",
   "execution_count": 4,
   "metadata": {},
   "outputs": [
    {
     "name": "stdout",
     "output_type": "stream",
     "text": [
      "All CSV files have been merged and saved as 'merged_data.parquet'\n"
     ]
    }
   ],
   "source": [
    "import os\n",
    "import pandas as pd\n",
    "\n",
    "# Initialize an empty list to store each CSV's data\n",
    "csv_files = []\n",
    "\n",
    "# Walk through all files in the current directory\n",
    "for root, dirs, files in os.walk(\".\"):\n",
    "    for file in files:\n",
    "        if file.endswith(\".csv\"):\n",
    "            # Read each CSV file and append to the list\n",
    "            file_path = os.path.join(root, file)\n",
    "            csv_files.append(pd.read_csv(file_path))\n",
    "\n",
    "# Concatenate all DataFrames in the list\n",
    "merged_df = pd.concat(csv_files, ignore_index=True)\n",
    "\n",
    "# Save the merged DataFrame to a Parquet file\n",
    "merged_df.to_parquet(\"merged_data.parquet\", index=False)\n",
    "\n",
    "print(\"All CSV files have been merged and saved as 'merged_data.parquet'\")\n"
   ]
  },
  {
   "cell_type": "code",
   "execution_count": 6,
   "metadata": {},
   "outputs": [
    {
     "data": {
      "text/plain": [
       "missing_filename\n",
       "20220222T063102086_20220222T063110086    4\n",
       "20220222T062918086_20220222T062926086    4\n",
       "20220222T062742086_20220222T062750086    4\n",
       "20220222T062558086_20220222T062606086    4\n",
       "20220222T062414086_20220222T062422086    4\n",
       "                                        ..\n",
       "20220802T221041775_20220802T221049775    1\n",
       "20220802T194640272_20220802T194648272    1\n",
       "20220802T181815793_20220802T181823793    1\n",
       "20220802T125957359_20220802T120005359    1\n",
       "20220802T050957257_20220802T051005257    1\n",
       "Name: count, Length: 35642, dtype: int64"
      ]
     },
     "execution_count": 6,
     "metadata": {},
     "output_type": "execute_result"
    }
   ],
   "source": [
    "merged_df[\"missing_filename\"].value_counts()"
   ]
  },
  {
   "cell_type": "code",
   "execution_count": 17,
   "metadata": {},
   "outputs": [],
   "source": [
    "filtered=merged_df[merged_df[\"flare_class_with_bg\"].str.startswith(\"X\") |merged_df[\"flare_class_with_bg\"].str.startswith(\"M\")|merged_df[\"flare_class_with_bg\"].str.startswith(\"C\")]\n"
   ]
  },
  {
   "cell_type": "code",
   "execution_count": 18,
   "metadata": {},
   "outputs": [
    {
     "data": {
      "text/html": [
       "<div>\n",
       "<style scoped>\n",
       "    .dataframe tbody tr th:only-of-type {\n",
       "        vertical-align: middle;\n",
       "    }\n",
       "\n",
       "    .dataframe tbody tr th {\n",
       "        vertical-align: top;\n",
       "    }\n",
       "\n",
       "    .dataframe thead th {\n",
       "        text-align: right;\n",
       "    }\n",
       "</style>\n",
       "<table border=\"1\" class=\"dataframe\">\n",
       "  <thead>\n",
       "    <tr style=\"text-align: right;\">\n",
       "      <th></th>\n",
       "      <th>class_file_name</th>\n",
       "      <th>flare_class_with_bg</th>\n",
       "      <th>flare_class_without_bg</th>\n",
       "      <th>pre_fit_start_time</th>\n",
       "      <th>pre_fit_end_time</th>\n",
       "      <th>missing_filename</th>\n",
       "    </tr>\n",
       "  </thead>\n",
       "  <tbody>\n",
       "    <tr>\n",
       "      <th>242</th>\n",
       "      <td>20220802T171607793_20220802T171615793</td>\n",
       "      <td>C1</td>\n",
       "      <td>C1</td>\n",
       "      <td>61376.0</td>\n",
       "      <td>67976.0</td>\n",
       "      <td>NaN</td>\n",
       "    </tr>\n",
       "    <tr>\n",
       "      <th>243</th>\n",
       "      <td>20220802T171615793_20220802T171623793</td>\n",
       "      <td>C1</td>\n",
       "      <td>C1</td>\n",
       "      <td>61376.0</td>\n",
       "      <td>67976.0</td>\n",
       "      <td>NaN</td>\n",
       "    </tr>\n",
       "    <tr>\n",
       "      <th>244</th>\n",
       "      <td>20220802T171623793_20220802T171631793</td>\n",
       "      <td>C1</td>\n",
       "      <td>C1</td>\n",
       "      <td>61376.0</td>\n",
       "      <td>67976.0</td>\n",
       "      <td>NaN</td>\n",
       "    </tr>\n",
       "    <tr>\n",
       "      <th>245</th>\n",
       "      <td>20220802T171631793_20220802T171639793</td>\n",
       "      <td>C1</td>\n",
       "      <td>C1</td>\n",
       "      <td>61376.0</td>\n",
       "      <td>67976.0</td>\n",
       "      <td>NaN</td>\n",
       "    </tr>\n",
       "    <tr>\n",
       "      <th>246</th>\n",
       "      <td>20220802T171639793_20220802T171647793</td>\n",
       "      <td>C1</td>\n",
       "      <td>C1</td>\n",
       "      <td>61376.0</td>\n",
       "      <td>67976.0</td>\n",
       "      <td>NaN</td>\n",
       "    </tr>\n",
       "    <tr>\n",
       "      <th>...</th>\n",
       "      <td>...</td>\n",
       "      <td>...</td>\n",
       "      <td>...</td>\n",
       "      <td>...</td>\n",
       "      <td>...</td>\n",
       "      <td>...</td>\n",
       "    </tr>\n",
       "    <tr>\n",
       "      <th>3355548</th>\n",
       "      <td>20210507T185136544_20210507T185144544</td>\n",
       "      <td>M2</td>\n",
       "      <td>M2</td>\n",
       "      <td>67845.0</td>\n",
       "      <td>72465.0</td>\n",
       "      <td>NaN</td>\n",
       "    </tr>\n",
       "    <tr>\n",
       "      <th>3355549</th>\n",
       "      <td>20210507T185144544_20210507T185152544</td>\n",
       "      <td>M2</td>\n",
       "      <td>M2</td>\n",
       "      <td>67845.0</td>\n",
       "      <td>72465.0</td>\n",
       "      <td>NaN</td>\n",
       "    </tr>\n",
       "    <tr>\n",
       "      <th>3355550</th>\n",
       "      <td>20210507T185152544_20210507T185200544</td>\n",
       "      <td>M2</td>\n",
       "      <td>M2</td>\n",
       "      <td>67845.0</td>\n",
       "      <td>72465.0</td>\n",
       "      <td>NaN</td>\n",
       "    </tr>\n",
       "    <tr>\n",
       "      <th>3355551</th>\n",
       "      <td>20210507T185200544_20210507T185208544</td>\n",
       "      <td>M2</td>\n",
       "      <td>M2</td>\n",
       "      <td>67845.0</td>\n",
       "      <td>72465.0</td>\n",
       "      <td>NaN</td>\n",
       "    </tr>\n",
       "    <tr>\n",
       "      <th>3355552</th>\n",
       "      <td>20210507T185208544_20210507T185213465</td>\n",
       "      <td>M2</td>\n",
       "      <td>M2</td>\n",
       "      <td>67845.0</td>\n",
       "      <td>72465.0</td>\n",
       "      <td>NaN</td>\n",
       "    </tr>\n",
       "  </tbody>\n",
       "</table>\n",
       "<p>1058063 rows × 6 columns</p>\n",
       "</div>"
      ],
      "text/plain": [
       "                               class_file_name flare_class_with_bg  \\\n",
       "242      20220802T171607793_20220802T171615793                  C1   \n",
       "243      20220802T171615793_20220802T171623793                  C1   \n",
       "244      20220802T171623793_20220802T171631793                  C1   \n",
       "245      20220802T171631793_20220802T171639793                  C1   \n",
       "246      20220802T171639793_20220802T171647793                  C1   \n",
       "...                                        ...                 ...   \n",
       "3355548  20210507T185136544_20210507T185144544                  M2   \n",
       "3355549  20210507T185144544_20210507T185152544                  M2   \n",
       "3355550  20210507T185152544_20210507T185200544                  M2   \n",
       "3355551  20210507T185200544_20210507T185208544                  M2   \n",
       "3355552  20210507T185208544_20210507T185213465                  M2   \n",
       "\n",
       "        flare_class_without_bg  pre_fit_start_time  pre_fit_end_time  \\\n",
       "242                         C1             61376.0           67976.0   \n",
       "243                         C1             61376.0           67976.0   \n",
       "244                         C1             61376.0           67976.0   \n",
       "245                         C1             61376.0           67976.0   \n",
       "246                         C1             61376.0           67976.0   \n",
       "...                        ...                 ...               ...   \n",
       "3355548                     M2             67845.0           72465.0   \n",
       "3355549                     M2             67845.0           72465.0   \n",
       "3355550                     M2             67845.0           72465.0   \n",
       "3355551                     M2             67845.0           72465.0   \n",
       "3355552                     M2             67845.0           72465.0   \n",
       "\n",
       "        missing_filename  \n",
       "242                  NaN  \n",
       "243                  NaN  \n",
       "244                  NaN  \n",
       "245                  NaN  \n",
       "246                  NaN  \n",
       "...                  ...  \n",
       "3355548              NaN  \n",
       "3355549              NaN  \n",
       "3355550              NaN  \n",
       "3355551              NaN  \n",
       "3355552              NaN  \n",
       "\n",
       "[1058063 rows x 6 columns]"
      ]
     },
     "execution_count": 18,
     "metadata": {},
     "output_type": "execute_result"
    }
   ],
   "source": [
    "filtered"
   ]
  },
  {
   "cell_type": "code",
   "execution_count": 21,
   "metadata": {},
   "outputs": [],
   "source": [
    "with open(\"fits_names.txt\",\"w\") as f:\n",
    "    f.writelines(line+\"\\n\" for line in filtered[\"class_file_name\"].values)\n"
   ]
  },
  {
   "cell_type": "code",
   "execution_count": 37,
   "metadata": {},
   "outputs": [],
   "source": [
    "lstx=filtered[filtered[\"flare_class_with_bg\"].str.startswith(\"X\")][\"class_file_name\"].values\n",
    "lstx=set([item[:8] for item in lstx])\n",
    "lstx\n",
    "lstm=filtered[filtered[\"flare_class_with_bg\"].str.startswith(\"M\")][\"class_file_name\"].values\n",
    "lstm=set([item[:8] for item in lstx])\n",
    "lstm\n",
    "lstc=filtered[filtered[\"flare_class_with_bg\"].str.startswith(\"C\")][\"class_file_name\"].values\n",
    "lstc=set([item[:8] for item in lstx])\n",
    "lstc\n",
    "M=[]\n",
    "C=[]\n",
    "X=[]\n",
    "for item in lstx:\n",
    "    if os.path.exists(\"/home/heasoft/ch2-abundance/scripts/flare_ops/scripts/spectrum/\"+f\"ch2_xsm_{item}_l1_vvapec.txt\"):\n",
    "        X.append(item)\n",
    "for item in lstm:\n",
    "    if os.path.exists(\"/home/heasoft/ch2-abundance/scripts/flare_ops/scripts/spectrum/\"+f\"ch2_xsm_{item}_l1_vvapec.txt\"):\n",
    "        M.append(item)\n",
    "for item in lstc:\n",
    "    if os.path.exists(\"/home/heasoft/ch2-abundance/scripts/flare_ops/scripts/spectrum/\"+f\"ch2_xsm_{item}_l1_vvapec.txt\"):\n",
    "        C.append(item)"
   ]
  },
  {
   "cell_type": "code",
   "execution_count": 38,
   "metadata": {},
   "outputs": [
    {
     "name": "stdout",
     "output_type": "stream",
     "text": [
      "['20220417', '20220503', '20220430', '20211028', '20220421', '20221002'] ['20220417', '20220503', '20220430', '20211028', '20220421', '20221002'] ['20220417', '20220503', '20220430', '20211028', '20220421', '20221002']\n"
     ]
    }
   ],
   "source": [
    "print(X,M,C)\n"
   ]
  },
  {
   "cell_type": "code",
   "execution_count": 39,
   "metadata": {},
   "outputs": [],
   "source": [
    "import pickle\n",
    "solar_dict={\"X\":X,\"M\":M,\"C\":C}\n",
    "pickle.dump(solar_dict,open(\"solar.pkl\",\"wb\"))\n"
   ]
  },
  {
   "cell_type": "code",
   "execution_count": null,
   "metadata": {},
   "outputs": [],
   "source": []
  }
 ],
 "metadata": {
  "kernelspec": {
   "display_name": "env",
   "language": "python",
   "name": "python3"
  },
  "language_info": {
   "codemirror_mode": {
    "name": "ipython",
    "version": 3
   },
   "file_extension": ".py",
   "mimetype": "text/x-python",
   "name": "python",
   "nbconvert_exporter": "python",
   "pygments_lexer": "ipython3",
   "version": "3.10.12"
  }
 },
 "nbformat": 4,
 "nbformat_minor": 2
}
