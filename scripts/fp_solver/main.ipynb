{
 "cells": [
  {
   "cell_type": "code",
   "execution_count": 1,
   "metadata": {},
   "outputs": [],
   "source": [
    "import sys\n",
    "import os\n",
    "sys.path.append('.')\n",
    "\n",
    "import pandas as pd\n",
    "from tqdm.auto import tqdm\n",
    "tqdm.pandas()\n",
    "\n",
    "import gc\n",
    "import json\n",
    "import numpy as np\n",
    "from multiprocessing import cpu_count\n",
    "import asyncio\n",
    "from concurrent.futures import ProcessPoolExecutor\n",
    "\n",
    "from fit import XRFAnalyzer"
   ]
  },
  {
   "cell_type": "code",
   "execution_count": 2,
   "metadata": {},
   "outputs": [
    {
     "data": {
      "application/vnd.jupyter.widget-view+json": {
       "model_id": "e1d131b2a8e24105bc28f137e2fb2c93",
       "version_major": 2,
       "version_minor": 0
      },
      "text/plain": [
       "  0%|          | 0/8 [00:00<?, ?it/s]"
      ]
     },
     "metadata": {},
     "output_type": "display_data"
    },
    {
     "data": {
      "text/plain": [
       "21"
      ]
     },
     "execution_count": 2,
     "metadata": {},
     "output_type": "execute_result"
    }
   ],
   "source": [
    "# load all the FITs files from parquets\n",
    "fits_path = 'FITs/'\n",
    "\n",
    "fits_list = []\n",
    "for filename in tqdm(os.listdir(fits_path)):\n",
    "    gc.collect()\n",
    "    if filename.endswith('.parquet'):\n",
    "        # print(f'Processing {filename}')\n",
    "        fits_list.append(pd.read_parquet(f'{fits_path}{filename}'))\n",
    "    else:\n",
    "        continue\n",
    "\n",
    "fits = pd.concat(fits_list, ignore_index=True)\n",
    "gc.collect()"
   ]
  },
  {
   "cell_type": "code",
   "execution_count": 3,
   "metadata": {},
   "outputs": [
    {
     "data": {
      "text/html": [
       "<div>\n",
       "<style scoped>\n",
       "    .dataframe tbody tr th:only-of-type {\n",
       "        vertical-align: middle;\n",
       "    }\n",
       "\n",
       "    .dataframe tbody tr th {\n",
       "        vertical-align: top;\n",
       "    }\n",
       "\n",
       "    .dataframe thead th {\n",
       "        text-align: right;\n",
       "    }\n",
       "</style>\n",
       "<table border=\"1\" class=\"dataframe\">\n",
       "  <thead>\n",
       "    <tr style=\"text-align: right;\">\n",
       "      <th></th>\n",
       "      <th>file</th>\n",
       "      <th>V0_LAT</th>\n",
       "      <th>V1_LAT</th>\n",
       "      <th>V2_LAT</th>\n",
       "      <th>V3_LAT</th>\n",
       "      <th>V0_LON</th>\n",
       "      <th>V1_LON</th>\n",
       "      <th>V2_LON</th>\n",
       "      <th>V3_LON</th>\n",
       "      <th>centroid_x</th>\n",
       "      <th>centroid_y</th>\n",
       "      <th>y</th>\n",
       "      <th>background_file_name</th>\n",
       "    </tr>\n",
       "  </thead>\n",
       "  <tbody>\n",
       "    <tr>\n",
       "      <th>0</th>\n",
       "      <td>ch2_cla_l1_20200529T104516257_20200529T1045242...</td>\n",
       "      <td>-36.0918</td>\n",
       "      <td>-37.3864</td>\n",
       "      <td>-37.3696</td>\n",
       "      <td>-36.0753</td>\n",
       "      <td>120.28</td>\n",
       "      <td>120.299</td>\n",
       "      <td>121.42</td>\n",
       "      <td>121.381</td>\n",
       "      <td>-36.730775</td>\n",
       "      <td>120.845</td>\n",
       "      <td>[0.0, 0.0, 0.0, 0.0, 0.0, 0.0, 0.0, 0.0, 0.0, ...</td>\n",
       "      <td>20200529T104516257_20200529T104524257_BKG</td>\n",
       "    </tr>\n",
       "    <tr>\n",
       "      <th>1</th>\n",
       "      <td>ch2_cla_l1_20200529T104516257_20200529T1045242...</td>\n",
       "      <td>-36.0918</td>\n",
       "      <td>-37.3864</td>\n",
       "      <td>-37.3696</td>\n",
       "      <td>-36.0753</td>\n",
       "      <td>120.28</td>\n",
       "      <td>120.299</td>\n",
       "      <td>121.42</td>\n",
       "      <td>121.381</td>\n",
       "      <td>-36.730775</td>\n",
       "      <td>120.845</td>\n",
       "      <td>[0.0, 0.0, 0.0, 0.0, 0.0, 0.0, 0.0, 0.0, 0.0, ...</td>\n",
       "      <td>20200529T104516257_20200529T104524257_BKG</td>\n",
       "    </tr>\n",
       "  </tbody>\n",
       "</table>\n",
       "</div>"
      ],
      "text/plain": [
       "                                                file   V0_LAT   V1_LAT  \\\n",
       "0  ch2_cla_l1_20200529T104516257_20200529T1045242... -36.0918 -37.3864   \n",
       "1  ch2_cla_l1_20200529T104516257_20200529T1045242... -36.0918 -37.3864   \n",
       "\n",
       "    V2_LAT   V3_LAT  V0_LON   V1_LON  V2_LON   V3_LON  centroid_x  centroid_y  \\\n",
       "0 -37.3696 -36.0753  120.28  120.299  121.42  121.381  -36.730775     120.845   \n",
       "1 -37.3696 -36.0753  120.28  120.299  121.42  121.381  -36.730775     120.845   \n",
       "\n",
       "                                                   y  \\\n",
       "0  [0.0, 0.0, 0.0, 0.0, 0.0, 0.0, 0.0, 0.0, 0.0, ...   \n",
       "1  [0.0, 0.0, 0.0, 0.0, 0.0, 0.0, 0.0, 0.0, 0.0, ...   \n",
       "\n",
       "                        background_file_name  \n",
       "0  20200529T104516257_20200529T104524257_BKG  \n",
       "1  20200529T104516257_20200529T104524257_BKG  "
      ]
     },
     "execution_count": 3,
     "metadata": {},
     "output_type": "execute_result"
    }
   ],
   "source": [
    "# filtering the relevant columns\n",
    "\n",
    "fits = fits[['file', 'V0_LAT', 'V1_LAT', 'V2_LAT', 'V3_LAT', 'V0_LON', 'V1_LON',\n",
    "       'V2_LON', 'V3_LON', 'centroid_x', 'centroid_y', 'y']]\n",
    "\n",
    "# load the FITS to BKG mapping\n",
    "mapping = pd.read_csv('new_cat.csv')\n",
    "mapping.rename(columns={'class_file_name': 'file'}, inplace=True)\n",
    "mapping['file'] = 'ch2_cla_l1_' + mapping['file'] + '.fits'\n",
    "mapping = mapping[['file', 'background_file_name']]\n",
    "\n",
    "# merge the FITS with the mapping\n",
    "fits = fits.merge(mapping, on='file', how='inner')\n",
    "fits.head(2)"
   ]
  },
  {
   "cell_type": "code",
   "execution_count": 4,
   "metadata": {},
   "outputs": [],
   "source": [
    "# function to get intensities and concentrations for each FIT\n",
    "\n",
    "def get_intensities(y, bkg):\n",
    "     # Create analyzer instance\n",
    "    analyzer = XRFAnalyzer()\n",
    "    \n",
    "    try:\n",
    "        intensities, concentrations = analyzer.analyze_sample(\n",
    "            background_fits='BKGs\\ch2_cla_l1_' + bkg + '.pha',\n",
    "            plot_results=False,\n",
    "            use_background = True,\n",
    "            use_y=True,\n",
    "            y_file=y,\n",
    "            verbose=0\n",
    "        )\n",
    "        \n",
    "        return [intensities, concentrations]\n",
    "        \n",
    "    except Exception as e:\n",
    "        print(f\"\\nError during analysis: {str(e)}\")\n",
    "        return [None, None]\n"
   ]
  },
  {
   "cell_type": "code",
   "execution_count": 8,
   "metadata": {},
   "outputs": [
    {
     "data": {
      "text/plain": [
       "\"\\n# Process the data with checkpointing\\nprocess_with_checkpoints(fits_df, output_dir='my_results', end_index=1000)\\n\\n# Later, combine all results\\nresults_df = combine_results(output_dir='my_results', fits_df=fits_df)\\n\\n# Merge results back with original DataFrame if needed\\nfits_df['results'] = results_df['result']\\n\""
      ]
     },
     "execution_count": 8,
     "metadata": {},
     "output_type": "execute_result"
    }
   ],
   "source": [
    "def process_with_checkpoints(fits_df, output_dir='processed_results', start_index=None, end_index=None):\n",
    "    \"\"\"\n",
    "    Process DataFrame rows with checkpointing and progress tracking\n",
    "    \n",
    "    Args:\n",
    "        fits_df: Input DataFrame\n",
    "        output_dir: Directory to save intermediate results\n",
    "        start_index: Optional index to resume processing from\n",
    "        end_index: Optional index to stop processing at\n",
    "    \"\"\"\n",
    "    # Create output directory if it doesn't exist\n",
    "    os.makedirs(output_dir, exist_ok=True)\n",
    "    \n",
    "    # Get list of already processed files if any\n",
    "    processed_files = set()\n",
    "    if os.path.exists(os.path.join(output_dir, 'processed_indices.txt')):\n",
    "        with open(os.path.join(output_dir, 'processed_indices.txt'), 'r') as f:\n",
    "            processed_files = set(int(x.strip()) for x in f.readlines())\n",
    "    \n",
    "    # Determine start index\n",
    "    if start_index is None:\n",
    "        start_index = 0 if not processed_files else max(processed_files) + 1\n",
    "    \n",
    "    # Determine end index\n",
    "    if end_index is None:\n",
    "        end_index = len(fits_df)\n",
    "    \n",
    "    # Process rows with progress bar\n",
    "    with tqdm(total=end_index, initial=len(processed_files)) as pbar:\n",
    "        # Skip to start_index\n",
    "        pbar.update(start_index)\n",
    "        \n",
    "        # Process each row\n",
    "        for idx in range(start_index, end_index):\n",
    "            if idx in processed_files:\n",
    "                continue\n",
    "                \n",
    "            row = fits_df.iloc[idx]\n",
    "            try:\n",
    "                # Process the row\n",
    "                result = get_intensities(row['y'], row['background_file_name'])\n",
    "                \n",
    "                # Save result to file\n",
    "                output_file = os.path.join(output_dir, f'result_{idx}.json')\n",
    "                with open(output_file, 'w') as f:\n",
    "                    json.dump({\n",
    "                        'index': idx,\n",
    "                        'result': result if not isinstance(result, np.ndarray) else result.tolist(),\n",
    "                        'row_data': {k: str(v) for k, v in row.items()}  # Convert all values to string for JSON\n",
    "                    }, f)\n",
    "                \n",
    "                # Record processed index\n",
    "                with open(os.path.join(output_dir, 'processed_indices.txt'), 'a') as f:\n",
    "                    f.write(f'{idx}\\n')\n",
    "                \n",
    "                pbar.update(1)\n",
    "                \n",
    "            except Exception as e:\n",
    "                print(f\"\\nError processing row {idx}: {str(e)}\")\n",
    "                # Optionally save error information\n",
    "                with open(os.path.join(output_dir, 'errors.txt'), 'a') as f:\n",
    "                    f.write(f'Error at index {idx}: {str(e)}\\n')\n",
    "                continue\n",
    "\n",
    "def combine_results(output_dir='processed_results', fits_df=None):\n",
    "    \"\"\"\n",
    "    Combine all processed results into a single DataFrame\n",
    "    \n",
    "    Args:\n",
    "        output_dir: Directory containing result files\n",
    "        fits_df: Original DataFrame (optional, for verification)\n",
    "    \"\"\"\n",
    "    all_results = []\n",
    "    \n",
    "    # Get all result files\n",
    "    result_files = [f for f in os.listdir(output_dir) if f.startswith('result_') and f.endswith('.json')]\n",
    "    \n",
    "    print(f\"Found {len(result_files)} result files\")\n",
    "    \n",
    "    # Combine results with progress bar\n",
    "    for file in tqdm(result_files, desc=\"Combining results\"):\n",
    "        with open(os.path.join(output_dir, file), 'r') as f:\n",
    "            data = json.load(f)\n",
    "            all_results.append({\n",
    "                'index': data['index'],\n",
    "                'result': data['result']\n",
    "            })\n",
    "    \n",
    "    # Sort by index\n",
    "    all_results.sort(key=lambda x: x['index'])\n",
    "    \n",
    "    # Create DataFrame\n",
    "    results_df = pd.DataFrame(all_results)\n",
    "    \n",
    "    # If original DataFrame provided, verify all indices were processed\n",
    "    if fits_df is not None:\n",
    "        missing_indices = set(range(len(fits_df))) - set(results_df['index'])\n",
    "        if missing_indices:\n",
    "            print(f\"Warning: Missing results for indices: {missing_indices}\")\n",
    "    \n",
    "    return results_df\n",
    "\n",
    "# Example usage:\n",
    "\"\"\"\n",
    "# Process the data with checkpointing\n",
    "process_with_checkpoints(fits_df, output_dir='my_results', end_index=1000)\n",
    "\n",
    "# Later, combine all results\n",
    "results_df = combine_results(output_dir='my_results', fits_df=fits_df)\n",
    "\n",
    "# Merge results back with original DataFrame if needed\n",
    "fits_df['results'] = results_df['result']\n",
    "\"\"\""
   ]
  },
  {
   "cell_type": "code",
   "execution_count": 6,
   "metadata": {},
   "outputs": [
    {
     "name": "stdout",
     "output_type": "stream",
     "text": [
      "Memory per row: 0.00 MB\n",
      "Available RAM: 5289 MB\n",
      "Safe memory limit: 1587 MB\n",
      "Number of CPU cores: 16\n",
      "\n",
      "Calculated optimal batch size: 254879\n",
      "Recommended batch size: 500\n"
     ]
    }
   ],
   "source": [
    "def calculate_optimal_batch_size(df):\n",
    "    # Calculate memory per row\n",
    "    mem_usage = df.memory_usage(deep=True).sum()\n",
    "    mem_per_row = mem_usage / len(df)\n",
    "    mem_per_row_mb = mem_per_row / (1024 * 1024)  # Convert to MB\n",
    "    \n",
    "    # Get available system memory\n",
    "    import psutil\n",
    "    available_ram = psutil.virtual_memory().available / (1024 * 1024)  # MB\n",
    "    \n",
    "    # Calculate safe memory limit (30% of available RAM)\n",
    "    safe_mem_limit = available_ram * 0.3\n",
    "    \n",
    "    # Calculate batch size\n",
    "    optimal_batch = int(safe_mem_limit / (mem_per_row_mb * cpu_count()))\n",
    "    \n",
    "    print(f\"Memory per row: {mem_per_row_mb:.2f} MB\")\n",
    "    print(f\"Available RAM: {available_ram:.0f} MB\")\n",
    "    print(f\"Safe memory limit: {safe_mem_limit:.0f} MB\")\n",
    "    print(f\"Number of CPU cores: {cpu_count()}\")\n",
    "    print(f\"\\nCalculated optimal batch size: {optimal_batch}\")\n",
    "    \n",
    "    # Cap the batch size within reasonable limits\n",
    "    final_batch = min(max(optimal_batch, 50), 500)\n",
    "    print(f\"Recommended batch size: {final_batch}\")\n",
    "    \n",
    "    return final_batch\n",
    "\n",
    "# Calculate optimal batch size\n",
    "batch_size = calculate_optimal_batch_size(fits)"
   ]
  },
  {
   "cell_type": "code",
   "execution_count": null,
   "metadata": {},
   "outputs": [
    {
     "data": {
      "application/vnd.jupyter.widget-view+json": {
       "model_id": "e64eaf0257924a72b3c5114f3d94dc62",
       "version_major": 2,
       "version_minor": 0
      },
      "text/plain": [
       " 27%|##7       | 27223/100000 [00:00<?, ?it/s]"
      ]
     },
     "metadata": {},
     "output_type": "display_data"
    },
    {
     "name": "stderr",
     "output_type": "stream",
     "text": [
      "E:\\ISRO\\ch2-abundance\\scripts\\fp_solver\\intensity_finder.py:189: OptimizeWarning: Covariance of the parameters could not be estimated\n",
      "  popt, _ = curve_fit(self.gaussian, x_fit, y_fit, p0=p0)\n",
      "c:\\Users\\Nirmal\\anaconda3\\envs\\isro\\lib\\site-packages\\scipy\\optimize\\_minpack_py.py:499: RuntimeWarning: overflow encountered in matmul\n",
      "  cov_x = invR @ invR.T\n",
      "c:\\Users\\Nirmal\\anaconda3\\envs\\isro\\lib\\site-packages\\scipy\\optimize\\_minpack_py.py:499: RuntimeWarning: invalid value encountered in matmul\n",
      "  cov_x = invR @ invR.T\n"
     ]
    }
   ],
   "source": [
    "start_index = 0\n",
    "end_index = 100_000\n",
    "process_with_checkpoints(fits, output_dir='results', start_index=start_index, end_index=end_index)"
   ]
  },
  {
   "cell_type": "code",
   "execution_count": null,
   "metadata": {},
   "outputs": [],
   "source": [
    "results_df = combine_results(output_dir='results', fits_df=fits)\n",
    "fits['results'] = results_df['result']\n",
    "fits.to_parquet(f'fits_with_results_{start_index}_{end_index}.parquet')"
   ]
  }
 ],
 "metadata": {
  "kernelspec": {
   "display_name": "isro",
   "language": "python",
   "name": "python3"
  },
  "language_info": {
   "codemirror_mode": {
    "name": "ipython",
    "version": 3
   },
   "file_extension": ".py",
   "mimetype": "text/x-python",
   "name": "python",
   "nbconvert_exporter": "python",
   "pygments_lexer": "ipython3",
   "version": "3.10.15"
  }
 },
 "nbformat": 4,
 "nbformat_minor": 2
}
