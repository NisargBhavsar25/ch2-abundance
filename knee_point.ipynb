{
  "cells": [
    {
      "cell_type": "markdown",
      "source": [
        "### Basic"
      ],
      "metadata": {
        "id": "gMqjcVl6ipGu"
      }
    },
    {
      "cell_type": "code",
      "execution_count": null,
      "metadata": {
        "id": "45VjMeefuOW0"
      },
      "outputs": [],
      "source": [
        "import pandas as pd\n",
        "import numpy as np\n",
        "import matplotlib.pyplot as plt\n",
        "import os\n",
        "from tqdm import tqdm, trange"
      ]
    },
    {
      "cell_type": "code",
      "execution_count": null,
      "metadata": {
        "colab": {
          "base_uri": "https://localhost:8080/"
        },
        "id": "QbBBRrvAZS9s",
        "outputId": "74592da6-a592-4938-c34b-47a173bbbbac"
      },
      "outputs": [
        {
          "output_type": "stream",
          "name": "stdout",
          "text": [
            "Mounted at /content/drive\n"
          ]
        }
      ],
      "source": [
        "from google.colab import drive\n",
        "drive.mount('/content/drive')"
      ]
    },
    {
      "cell_type": "markdown",
      "source": [
        "### Functions"
      ],
      "metadata": {
        "id": "dUAWvhHy4-sH"
      }
    },
    {
      "cell_type": "code",
      "execution_count": null,
      "metadata": {
        "id": "7lybnDVEjqbL"
      },
      "outputs": [],
      "source": [
        "def knee_point(df, plot=True):\n",
        "  df_sorted = df.sort_values(by='distance').reset_index(drop=True)\n",
        "  y = df_sorted['distance'].values\n",
        "  x = df.index\n",
        "\n",
        "  p1 = np.array([x[0], y[0]])\n",
        "  p2 = np.array([x[-1], y[-1]])\n",
        "\n",
        "  line_vec = p2 - p1\n",
        "  line_vec_norm = line_vec / np.sqrt(np.sum(line_vec**2))\n",
        "  distances = []\n",
        "\n",
        "  for i in range(len(x)):\n",
        "    point = np.array([x[i], y[i]])\n",
        "    point_vec = point - p1\n",
        "    proj = point_vec.dot(line_vec_norm) * line_vec_norm\n",
        "    distance = np.sqrt(np.sum((point_vec - proj) ** 2))\n",
        "    distances.append(distance)\n",
        "\n",
        "  knee_index = np.argmax(distances)\n",
        "  knee_x = x[knee_index]\n",
        "  knee_y = y[knee_index]\n",
        "\n",
        "  if plot:\n",
        "    fig, (plt1, plt2) = plt.subplots(1, 2, figsize=(9, 4))\n",
        "\n",
        "    plt1.plot(x, y)\n",
        "    plt1.set_xlabel(\"index\")\n",
        "    plt1.set_ylabel(\"Distances\")\n",
        "    plt1.set_title(f\"Data plot\")\n",
        "    for label in plt1.get_xticklabels():\n",
        "      label.set_rotation(45)\n",
        "\n",
        "    plt2.plot(x, y)\n",
        "    plt2.plot(knee_x, knee_y, 'rx')\n",
        "    plt2.axvline(x=knee_x, color='r', linestyle='--')\n",
        "    plt2.set_xlabel(\"index\")\n",
        "    plt2.set_ylabel(\"Distances\")\n",
        "    plt2.set_title(f\"Knee Point of Data\")\n",
        "    for label in plt2.get_xticklabels():\n",
        "      label.set_rotation(45)\n",
        "\n",
        "    plt.show()\n",
        "\n",
        "  print(f\"Knee point for distance at x = {knee_x}, y = {knee_y}\")\n",
        "  print(\"-\"*100, end=\"\\n\\n\")\n",
        "\n",
        "\n",
        "  return df_sorted, (knee_x, knee_y)"
      ]
    },
    {
      "cell_type": "code",
      "source": [
        "def plot_maker(df, knee = (0, 0), before=False, after=False, top=False):\n",
        "  knee_x, knee_y = knee\n",
        "  df_filtered = df[df.index > knee_x]\n",
        "\n",
        "  # sample plot maker for random 100 files after knee point\n",
        "\n",
        "  if before:\n",
        "    print(\"100 samples just before the knee point\")\n",
        "    sample_data = df[knee_x-100:knee_x]\n",
        "    draw_plots(sample_data)\n",
        "  if after:\n",
        "    print(\"100 samples just after the knee point\")\n",
        "    sample_data = df_filtered.head(100)\n",
        "    draw_plots(sample_data)\n",
        "  if top:\n",
        "    print(\"Top 100 samples\")\n",
        "    sample_data = df_filtered.tail(100)\n",
        "    draw_plots(sample_data)\n",
        "\n",
        "  print(\"Random 100 samples  before the knee point\")\n",
        "  sample_data = df_filtered.sample(n=100, random_state=69)\n",
        "  draw_plots(sample_data)"
      ],
      "metadata": {
        "id": "acNR-ZFWE53c"
      },
      "execution_count": null,
      "outputs": []
    },
    {
      "cell_type": "code",
      "source": [
        "def draw_plots(sample_data):\n",
        "  fig, plots = plt.subplots(20, 5, figsize=(20, 80))\n",
        "\n",
        "  plots = plots.flatten()\n",
        "\n",
        "  for i, (id, row) in enumerate(sample_data.iterrows()):\n",
        "    plts = plots[i]\n",
        "\n",
        "    plts.plot(row['x'], row['y'])\n",
        "\n",
        "    plts.set_yscale('log')\n",
        "    plts.set_xlim([1, 5])\n",
        "\n",
        "    plts.set_title(f\"{row['distance']}\")\n",
        "    plts.set_xlabel(\"x\")\n",
        "    plts.set_ylabel(\"y\")\n",
        "\n",
        "  plt.tight_layout()\n",
        "  plt.show()\n",
        "\n",
        "  print(\"-\"*100, end=\"\\n\\n\")"
      ],
      "metadata": {
        "id": "FK8l0e_evKHq"
      },
      "execution_count": null,
      "outputs": []
    },
    {
      "cell_type": "markdown",
      "source": [
        "### Read"
      ],
      "metadata": {
        "id": "gaquHTnDlKgC"
      }
    },
    {
      "cell_type": "code",
      "source": [
        "# single file\n",
        "file_path = \"/content/drive/MyDrive/Data/param_parquets/ch2_cla_l1_2024_01.parquet\"\n",
        "df = pd.read_parquet(file_path)\n",
        "\n",
        "# usage\n",
        "df_sorted, knee = knee_point(df)\n",
        "plot_maker(df_sorted, knee=knee, before=True, after=True, top=True)"
      ],
      "metadata": {
        "id": "xMbus-yPZoTN"
      },
      "execution_count": null,
      "outputs": []
    }
  ],
  "metadata": {
    "accelerator": "TPU",
    "colab": {
      "gpuType": "V28",
      "provenance": []
    },
    "kernelspec": {
      "display_name": "Python 3",
      "name": "python3"
    },
    "language_info": {
      "name": "python"
    }
  },
  "nbformat": 4,
  "nbformat_minor": 0
}